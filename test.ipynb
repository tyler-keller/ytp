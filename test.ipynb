{
 "cells": [
  {
   "cell_type": "code",
   "execution_count": 5,
   "metadata": {},
   "outputs": [
    {
     "ename": "RegexMatchError",
     "evalue": "\u001b[91mregex_search: could not find match for (?:v=|\\/)([0-9A-Za-z_-]{11}).*\u001b[0m",
     "output_type": "error",
     "traceback": [
      "\u001b[0;31m---------------------------------------------------------------------------\u001b[0m",
      "\u001b[0;31mRegexMatchError\u001b[0m                           Traceback (most recent call last)",
      "Cell \u001b[0;32mIn[5], line 6\u001b[0m\n\u001b[1;32m      2\u001b[0m \u001b[38;5;28;01mfrom\u001b[39;00m \u001b[38;5;21;01mpytubefix\u001b[39;00m\u001b[38;5;21;01m.\u001b[39;00m\u001b[38;5;21;01mcli\u001b[39;00m \u001b[38;5;28;01mimport\u001b[39;00m on_progress\n\u001b[1;32m      4\u001b[0m url \u001b[38;5;241m=\u001b[39m \u001b[38;5;124m'\u001b[39m\u001b[38;5;124mhttps://youtube.com/watch?v=EJ6qapvqqp\u001b[39m\u001b[38;5;124m'\u001b[39m\n\u001b[0;32m----> 6\u001b[0m yt \u001b[38;5;241m=\u001b[39m \u001b[43mYouTube\u001b[49m\u001b[43m(\u001b[49m\u001b[43murl\u001b[49m\u001b[43m,\u001b[49m\u001b[43m \u001b[49m\u001b[43mon_progress_callback\u001b[49m\u001b[43m \u001b[49m\u001b[38;5;241;43m=\u001b[39;49m\u001b[43m \u001b[49m\u001b[43mon_progress\u001b[49m\u001b[43m)\u001b[49m\n\u001b[1;32m      7\u001b[0m \u001b[38;5;28mprint\u001b[39m(yt\u001b[38;5;241m.\u001b[39mtitle)\n\u001b[1;32m      9\u001b[0m ys \u001b[38;5;241m=\u001b[39m yt\u001b[38;5;241m.\u001b[39mstreams\u001b[38;5;241m.\u001b[39mget_highest_resolution()\n",
      "File \u001b[0;32m~/miniconda3/envs/data/lib/python3.12/site-packages/pytubefix/__main__.py:114\u001b[0m, in \u001b[0;36mYouTube.__init__\u001b[0;34m(self, url, client, on_progress_callback, on_complete_callback, proxies, use_oauth, allow_oauth_cache, token_file)\u001b[0m\n\u001b[1;32m    111\u001b[0m \u001b[38;5;28mself\u001b[39m\u001b[38;5;241m.\u001b[39m_metadata: Optional[YouTubeMetadata] \u001b[38;5;241m=\u001b[39m \u001b[38;5;28;01mNone\u001b[39;00m\n\u001b[1;32m    113\u001b[0m \u001b[38;5;66;03m# video_id part of /watch?v=<video_id>\u001b[39;00m\n\u001b[0;32m--> 114\u001b[0m \u001b[38;5;28mself\u001b[39m\u001b[38;5;241m.\u001b[39mvideo_id \u001b[38;5;241m=\u001b[39m \u001b[43mextract\u001b[49m\u001b[38;5;241;43m.\u001b[39;49m\u001b[43mvideo_id\u001b[49m\u001b[43m(\u001b[49m\u001b[43murl\u001b[49m\u001b[43m)\u001b[49m\n\u001b[1;32m    116\u001b[0m \u001b[38;5;28mself\u001b[39m\u001b[38;5;241m.\u001b[39mwatch_url \u001b[38;5;241m=\u001b[39m \u001b[38;5;124mf\u001b[39m\u001b[38;5;124m\"\u001b[39m\u001b[38;5;124mhttps://youtube.com/watch?v=\u001b[39m\u001b[38;5;132;01m{\u001b[39;00m\u001b[38;5;28mself\u001b[39m\u001b[38;5;241m.\u001b[39mvideo_id\u001b[38;5;132;01m}\u001b[39;00m\u001b[38;5;124m\"\u001b[39m\n\u001b[1;32m    117\u001b[0m \u001b[38;5;28mself\u001b[39m\u001b[38;5;241m.\u001b[39membed_url \u001b[38;5;241m=\u001b[39m \u001b[38;5;124mf\u001b[39m\u001b[38;5;124m\"\u001b[39m\u001b[38;5;124mhttps://www.youtube.com/embed/\u001b[39m\u001b[38;5;132;01m{\u001b[39;00m\u001b[38;5;28mself\u001b[39m\u001b[38;5;241m.\u001b[39mvideo_id\u001b[38;5;132;01m}\u001b[39;00m\u001b[38;5;124m\"\u001b[39m\n",
      "File \u001b[0;32m~/miniconda3/envs/data/lib/python3.12/site-packages/pytubefix/extract.py:147\u001b[0m, in \u001b[0;36mvideo_id\u001b[0;34m(url)\u001b[0m\n\u001b[1;32m    132\u001b[0m \u001b[38;5;28;01mdef\u001b[39;00m \u001b[38;5;21mvideo_id\u001b[39m(url: \u001b[38;5;28mstr\u001b[39m) \u001b[38;5;241m-\u001b[39m\u001b[38;5;241m>\u001b[39m \u001b[38;5;28mstr\u001b[39m:\n\u001b[1;32m    133\u001b[0m \u001b[38;5;250m    \u001b[39m\u001b[38;5;124;03m\"\"\"Extract the ``video_id`` from a YouTube url.\u001b[39;00m\n\u001b[1;32m    134\u001b[0m \n\u001b[1;32m    135\u001b[0m \u001b[38;5;124;03m    This function supports the following patterns:\u001b[39;00m\n\u001b[0;32m   (...)\u001b[0m\n\u001b[1;32m    145\u001b[0m \u001b[38;5;124;03m        YouTube video id.\u001b[39;00m\n\u001b[1;32m    146\u001b[0m \u001b[38;5;124;03m    \"\"\"\u001b[39;00m\n\u001b[0;32m--> 147\u001b[0m     \u001b[38;5;28;01mreturn\u001b[39;00m \u001b[43mregex_search\u001b[49m\u001b[43m(\u001b[49m\u001b[38;5;124;43mr\u001b[39;49m\u001b[38;5;124;43m\"\u001b[39;49m\u001b[38;5;124;43m(?:v=|\u001b[39;49m\u001b[38;5;124;43m\\\u001b[39;49m\u001b[38;5;124;43m/)([0-9A-Za-z_-]\u001b[39;49m\u001b[38;5;132;43;01m{11}\u001b[39;49;00m\u001b[38;5;124;43m).*\u001b[39;49m\u001b[38;5;124;43m\"\u001b[39;49m\u001b[43m,\u001b[49m\u001b[43m \u001b[49m\u001b[43murl\u001b[49m\u001b[43m,\u001b[49m\u001b[43m \u001b[49m\u001b[43mgroup\u001b[49m\u001b[38;5;241;43m=\u001b[39;49m\u001b[38;5;241;43m1\u001b[39;49m\u001b[43m)\u001b[49m\n",
      "File \u001b[0;32m~/miniconda3/envs/data/lib/python3.12/site-packages/pytubefix/helpers.py:129\u001b[0m, in \u001b[0;36mregex_search\u001b[0;34m(pattern, string, group)\u001b[0m\n\u001b[1;32m    127\u001b[0m results \u001b[38;5;241m=\u001b[39m regex\u001b[38;5;241m.\u001b[39msearch(string)\n\u001b[1;32m    128\u001b[0m \u001b[38;5;28;01mif\u001b[39;00m \u001b[38;5;129;01mnot\u001b[39;00m results:\n\u001b[0;32m--> 129\u001b[0m     \u001b[38;5;28;01mraise\u001b[39;00m RegexMatchError(caller\u001b[38;5;241m=\u001b[39m\u001b[38;5;124m\"\u001b[39m\u001b[38;5;124mregex_search\u001b[39m\u001b[38;5;124m\"\u001b[39m, pattern\u001b[38;5;241m=\u001b[39mpattern)\n\u001b[1;32m    131\u001b[0m logger\u001b[38;5;241m.\u001b[39mdebug(\u001b[38;5;124m\"\u001b[39m\u001b[38;5;124mmatched regex search: \u001b[39m\u001b[38;5;132;01m%s\u001b[39;00m\u001b[38;5;124m\"\u001b[39m, pattern)\n\u001b[1;32m    133\u001b[0m \u001b[38;5;28;01mreturn\u001b[39;00m results\u001b[38;5;241m.\u001b[39mgroup(group)\n",
      "\u001b[0;31mRegexMatchError\u001b[0m: \u001b[91mregex_search: could not find match for (?:v=|\\/)([0-9A-Za-z_-]{11}).*\u001b[0m"
     ]
    }
   ],
   "source": [
    "from pytubefix import YouTube\n",
    "from pytubefix.cli import on_progress\n",
    " \n",
    "url = 'https://youtube.com/watch?v=EJ6qapvqqp'\n",
    " \n",
    "yt = YouTube(url, on_progress_callback = on_progress)\n",
    "print(yt.title)\n",
    " \n",
    "ys = yt.streams.get_highest_resolution()\n",
    "ys.download()"
   ]
  },
  {
   "cell_type": "code",
   "execution_count": 7,
   "metadata": {},
   "outputs": [
    {
     "name": "stdout",
     "output_type": "stream",
     "text": [
      "[youtube] Extracting URL: https://www.youtube.com/watch?v=EJ6qapvqqpI\n",
      "[youtube] EJ6qapvqqpI: Downloading webpage\n",
      "[youtube] EJ6qapvqqpI: Downloading ios player API JSON\n",
      "[youtube] EJ6qapvqqpI: Downloading m3u8 information\n",
      "[info] EJ6qapvqqpI: Downloading 1 format(s): 616+251\n",
      "[hlsnative] Downloading m3u8 manifest\n",
      "[hlsnative] Total fragments: 1322\n",
      "[download] Destination: KT #673 - JOE ROGAN + MATT MCCUSKER [EJ6qapvqqpI].f616.mp4\n",
      "[download] 100% of    2.00GiB in 00:01:15 at 26.99MiB/s                    \n",
      "[download] Destination: KT #673 - JOE ROGAN + MATT MCCUSKER [EJ6qapvqqpI].f251.webm\n",
      "[download] 100% of  100.94MiB in 00:00:02 at 46.57MiB/s    \n",
      "[Merger] Merging formats into \"KT #673 - JOE ROGAN + MATT MCCUSKER [EJ6qapvqqpI].webm\"\n",
      "Deleting original file KT #673 - JOE ROGAN + MATT MCCUSKER [EJ6qapvqqpI].f251.webm (pass -k to keep)\n",
      "Deleting original file KT #673 - JOE ROGAN + MATT MCCUSKER [EJ6qapvqqpI].f616.mp4 (pass -k to keep)\n"
     ]
    },
    {
     "data": {
      "text/plain": [
       "0"
      ]
     },
     "execution_count": 7,
     "metadata": {},
     "output_type": "execute_result"
    }
   ],
   "source": [
    "import subprocess\n",
    "\n",
    "subprocess.call(['yt-dlp', 'https://www.youtube.com/watch?v=EJ6qapvqqpI'])"
   ]
  },
  {
   "cell_type": "code",
   "execution_count": null,
   "metadata": {},
   "outputs": [],
   "source": []
  }
 ],
 "metadata": {
  "kernelspec": {
   "display_name": "data",
   "language": "python",
   "name": "python3"
  },
  "language_info": {
   "codemirror_mode": {
    "name": "ipython",
    "version": 3
   },
   "file_extension": ".py",
   "mimetype": "text/x-python",
   "name": "python",
   "nbconvert_exporter": "python",
   "pygments_lexer": "ipython3",
   "version": "3.12.2"
  }
 },
 "nbformat": 4,
 "nbformat_minor": 2
}
